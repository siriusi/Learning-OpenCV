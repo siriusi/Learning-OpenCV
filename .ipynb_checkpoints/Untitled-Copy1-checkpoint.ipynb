{
 "cells": [
  {
   "cell_type": "code",
   "execution_count": 9,
   "metadata": {},
   "outputs": [
    {
     "name": "stdout",
     "output_type": "stream",
     "text": [
      "255\n"
     ]
    }
   ],
   "source": [
    "import cv2\n",
    "import numpy as np\n",
    "\n",
    "img = cv2.imread('G:\\\\MachineLearning\\\\OpenCV\\\\1920x1080.JPG',1)\n",
    "img2gray = cv2.cvtColor(img,cv2.COLOR_BGR2GRAY)\n",
    "\n",
    "print(np.max(img2gray))\n",
    "cv2.namedWindow('Source Image', cv2.WINDOW_NORMAL)\n",
    "cv2.resizeWindow('Source Image', 640, 480)\n",
    "cv2.imshow('Source Image', img2gray)\n",
    "\n",
    "allOnes = np.ones_like(img2gray)\n",
    "\n",
    "bitMash = 1\n",
    "\n",
    "for i in range(8):\n",
    "    bitMash = 1 << i\n",
    "    mashMat = bitMash * allOnes\n",
    "    #print(mashMat)\n",
    "    #print(img2gray)\n",
    "    #print()\n",
    "    newImg = cv2.bitwise_and(mashMat,img2gray)\n",
    "    imgName = 'Bit ' + str(i) + \" Image\"\n",
    "    cv2.namedWindow(imgName, cv2.WINDOW_NORMAL)\n",
    "    cv2.resizeWindow(imgName, 640, 480)\n",
    "    cv2.imshow(imgName, newImg)\n",
    "\n",
    "\"\"\"# 显示原图和三个通道\n",
    "cv2.imshow('Source Image', img)\n",
    "\n",
    "# 在R通道中确定ROI区域 并修改ROI中所有像素的值\n",
    "ROI = r[260:380, 30:120]\n",
    "ROI = 255\n",
    "r[260:380, 30:120] = ROI\n",
    "\n",
    "# 显示修改后的R通道和它与BG通道合并后的新图\n",
    "cv2.imshow('New Red Channel', r)\n",
    "newImage = cv2.merge((b, g, r))\n",
    "cv2.imshow('New Image', newImage)\"\"\"\n",
    "\n",
    "cv2.waitKey(0)\n",
    "cv2.destroyAllWindows()\n"
   ]
  }
 ],
 "metadata": {
  "kernelspec": {
   "display_name": "Python 3",
   "language": "python",
   "name": "python3"
  },
  "language_info": {
   "codemirror_mode": {
    "name": "ipython",
    "version": 3
   },
   "file_extension": ".py",
   "mimetype": "text/x-python",
   "name": "python",
   "nbconvert_exporter": "python",
   "pygments_lexer": "ipython3",
   "version": "3.6.2"
  }
 },
 "nbformat": 4,
 "nbformat_minor": 2
}
