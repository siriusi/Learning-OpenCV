{
 "cells": [
  {
   "cell_type": "code",
   "execution_count": 1,
   "metadata": {},
   "outputs": [
    {
     "name": "stdout",
     "output_type": "stream",
     "text": [
      "(1080, 1920)\n",
      "(1080, 1920)\n",
      "(1080, 1920)\n"
     ]
    }
   ],
   "source": [
    "#canny算法求边缘\n",
    "import cv2\n",
    "import numpy as np\n",
    "\n",
    "img = cv2.imread('1920x1080.JPG')\n",
    "# 首先进行高斯滤波 滤除干扰\n",
    "blurImg = cv2.GaussianBlur(img, (9, 9), 0)\n",
    "\n",
    "cannyImgGray = cv2.Canny(blurImg, 50, 130)\n",
    "\n",
    "mask_inv = cv2.bitwise_not(cannyImgGray)\n",
    "\n",
    "# 现在\"刷上\"颜色\n",
    "img2_fg = cv2.bitwise_and(img,img,mask = mask_inv)\n",
    "cv2.imshow('img2_fg',img2_fg)\n",
    "\n",
    "cannyImgColor = cv2.cvtColor(cannyImgGray,cv2.COLOR_GRAY2BGR)\n",
    "\n",
    "b,g,r = cv2.split(cannyImgColor)\n",
    "r[r>255]=255\n",
    "g[:]=0\n",
    "b[:]=0\n",
    "cannyImgColor = cv2.merge((b, g, r))\n",
    "\n",
    "# \"撕掉胶带\"\n",
    "AndImg = cv2.add(cannyImgColor, img2_fg)\n",
    "\n",
    "cv2.namedWindow('Canny')\n",
    "cv2.namedWindow('AndImg')\n",
    "cv2.imshow('Canny', cannyImgGray)\n",
    "cv2.imshow('AndImg', AndImg)\n",
    "\n",
    "cv2.waitKey()\n",
    "cv2.destroyAllWindows()"
   ]
  },
  {
   "cell_type": "code",
   "execution_count": 6,
   "metadata": {},
   "outputs": [],
   "source": [
    "#canny算法用在视频上\n",
    "import numpy as np\n",
    "import cv2\n",
    "\n",
    "def draw_circle(event,x,y,flags,params):\n",
    "    if event == cv2.EVENT_LBUTTONDOWN:\n",
    "        print(\"坐标：\",x,y)\n",
    "    \n",
    "#cv2.namedWindow('Camera')\n",
    "# “激活”回调函数 需要传递的参数为字符串'I am the param'\n",
    "#cv2.setMouseCallback('Camera',draw_circle)\n",
    "\n",
    "\n",
    "# 初始化摄像头\n",
    "cap = cv2.VideoCapture(0)\n",
    "index = 0\n",
    "imgname = 0\n",
    "# 用循环不断获取当前帧 处理后显示出来\n",
    "while True:\n",
    "    #   捕获当前帧\n",
    "    ret,img = cap.read()\n",
    "    \n",
    "    blurImg = cv2.GaussianBlur(img, (9, 9), 0)    \n",
    "    cannyImgGray = cv2.Canny(blurImg, 50, 130)\n",
    "\n",
    "    mask_inv = cv2.bitwise_not(cannyImgGray)\n",
    "\n",
    "    #背景\n",
    "    img_bg = cv2.bitwise_and(img,img,mask = mask_inv)\n",
    "\n",
    "    cannyImgColor = cv2.cvtColor(cannyImgGray,cv2.COLOR_GRAY2BGR)\n",
    "\n",
    "    #前景，即边缘\n",
    "    b,g,r = cv2.split(cannyImgColor)\n",
    "    r[r>255]=255\n",
    "    g[:]=0\n",
    "    b[:]=0\n",
    "    img_fg = cv2.merge((b, g, r))\n",
    "\n",
    "    # \"把前景和背景合成\"\n",
    "    AndImg = cv2.add(img_fg, img_bg)\n",
    "    cv2.imshow('New Image',AndImg)\n",
    "    if cv2.waitKey(50) & 0xFF == ord('q'):\n",
    "        break\n",
    "# 释放资源\n",
    "cap.release()\n",
    "cv2.destroyAllWindows()"
   ]
  },
  {
   "cell_type": "code",
   "execution_count": 1,
   "metadata": {},
   "outputs": [],
   "source": [
    "#膨胀及腐蚀\n",
    "#dst=cv2.dilate(src, kernel[, dst[, anchor[, iterations[, borderType[, borderValue]]]]]) 膨胀\n",
    "#dst=cv2.erode(src, kernel[, dst[, anchor[, iterations[, borderType[, borderValue]]]]]) 腐蚀\n",
    "import cv2\n",
    "import numpy as np\n",
    "\n",
    "img = cv2.imread('1920x1080.JPG')\n",
    "\n",
    "kernel = cv2.getStructuringElement(cv2.MORPH_RECT, (8, 8))\n",
    "dilateImg = cv2.dilate(img, kernel)\n",
    "erodeImg = cv2.erode(img, kernel)\n",
    "\n",
    "cv2.imshow('SrcImg', img)\n",
    "cv2.imshow('DilateImg', dilateImg)\n",
    "cv2.imshow('ErodeImg', erodeImg)\n",
    "\n",
    "cv2.waitKey()\n",
    "cv2.destroyAllWindows()"
   ]
  }
 ],
 "metadata": {
  "kernelspec": {
   "display_name": "Python 3",
   "language": "python",
   "name": "python3"
  },
  "language_info": {
   "codemirror_mode": {
    "name": "ipython",
    "version": 3
   },
   "file_extension": ".py",
   "mimetype": "text/x-python",
   "name": "python",
   "nbconvert_exporter": "python",
   "pygments_lexer": "ipython3",
   "version": "3.6.2"
  }
 },
 "nbformat": 4,
 "nbformat_minor": 2
}
