{
 "cells": [
  {
   "cell_type": "code",
   "execution_count": 2,
   "metadata": {},
   "outputs": [
    {
     "name": "stdout",
     "output_type": "stream",
     "text": [
      "(312, 252)\n",
      "图中硬币数为：  24\n"
     ]
    }
   ],
   "source": [
    "#分水岭计算边界\n",
    "import cv2\n",
    "import numpy as np\n",
    "\n",
    "img = cv2.imread('water_coins.jpg')\n",
    "gray = cv2.cvtColor(img,cv2.COLOR_BGR2GRAY)\n",
    "ret, thresh = cv2.threshold(gray,0,255,cv2.THRESH_BINARY_INV+cv2.THRESH_OTSU)\n",
    "cv2.imshow('Binary Image', thresh)\n",
    "\n",
    "# 使用形态学运算滤除噪点\n",
    "kernel = np.ones((3,3),np.uint8)\n",
    "opening = cv2.morphologyEx(thresh,cv2.MORPH_OPEN,kernel, iterations = 2)\n",
    "\n",
    "# 靠近目标中心的是前景 远离目标中心的是背景 硬币边缘是未知区域\n",
    "# 确定背景\n",
    "sure_bg = cv2.dilate(opening,kernel,iterations=3)\n",
    "cv2.imshow('Background Image', sure_bg)\n",
    "\n",
    "# 确定前景\n",
    "# 使用距离转换让硬币之间分开\n",
    "# 如果只是单纯抠前景 则可以不使用距离变换\n",
    "dist_transform = cv2.distanceTransform(opening,cv2.DIST_L2,5)  #离背景越远越亮，cv2.DIST_L2是指欧几里得距离（根号下平方）\n",
    "ret, sure_fg = cv2.threshold(dist_transform,0.7*dist_transform.max(),255,0)  #就是从背景到最中心的位置的70%都置为0\n",
    "cv2.imshow('Foreground Image', sure_fg)\n",
    "\n",
    "# 确定未知区域\n",
    "# 背景图减去前景图得到未知区域\n",
    "# 类似于同心圆中大圆减去小圆得到圆环 圆环就是未知区域\n",
    "sure_fg = np.uint8(sure_fg)\n",
    "unknown = cv2.subtract(sure_bg,sure_fg)\n",
    "cv2.imshow('Unknown', unknown)\n",
    "\n",
    "# 从0开始进行标记\n",
    "# 这个函数可以将各个连通域从0开始标号 同一个连通域的像素的标签相同\n",
    "ret, markers = cv2.connectedComponents(sure_fg)\n",
    "\n",
    "print(markers.shape)  #就是原图的大小，直接在图上标注出来\n",
    "\n",
    "temp = np.uint8(markers)\n",
    "temp[temp == 1] = 255\n",
    "\n",
    "numSet = markers.reshape([-1]).tolist()\n",
    "numOfCoins = len(set(numSet)) - 1\n",
    "print(\"图中硬币数为： \", numOfCoins)\n",
    "#print(len(numSet) - 1)\n",
    "\n",
    "cv2.imshow('markers', temp)\n",
    "\n",
    "# 因为0是未知区域 所有标签自增1\n",
    "markers = markers+1\n",
    "\n",
    "# 标记未知区域 这里unknown中的白色的环状区域为未知区域\n",
    "markers[unknown==255] = 0\n",
    "\n",
    "markers = cv2.watershed(img,markers)\n",
    "img[markers == -1] = [255,0,0]\n",
    "cv2.imshow('Result Image', img)\n",
    "\n",
    "cv2.waitKey()\n",
    "cv2.destroyAllWindows()"
   ]
  }
 ],
 "metadata": {
  "kernelspec": {
   "display_name": "Python 3",
   "language": "python",
   "name": "python3"
  },
  "language_info": {
   "codemirror_mode": {
    "name": "ipython",
    "version": 3
   },
   "file_extension": ".py",
   "mimetype": "text/x-python",
   "name": "python",
   "nbconvert_exporter": "python",
   "pygments_lexer": "ipython3",
   "version": "3.6.2"
  }
 },
 "nbformat": 4,
 "nbformat_minor": 2
}
