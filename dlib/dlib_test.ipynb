{
 "cells": [
  {
   "cell_type": "code",
   "execution_count": 3,
   "metadata": {},
   "outputs": [
    {
     "name": "stdout",
     "output_type": "stream",
     "text": [
      "Number of faces detected: 1\n",
      "rectangles[[(132, 64) (287, 219)]]\n",
      "face 0; left 132; top 64; right 287; bottom 219\n",
      "Number of faces detected: 6\n",
      "rectangles[[(813, 210) (849, 246)], [(709, 329) (771, 391)], [(453, 202) (489, 238)], [(319, 194) (362, 238)], [(852, 300) (895, 343)], [(530, 214) (573, 257)]]\n",
      "face 0; left 813; top 210; right 849; bottom 246\n",
      "face 1; left 709; top 329; right 771; bottom 391\n",
      "face 2; left 453; top 202; right 489; bottom 238\n",
      "face 3; left 319; top 194; right 362; bottom 238\n",
      "face 4; left 852; top 300; right 895; bottom 343\n",
      "face 5; left 530; top 214; right 573; bottom 257\n"
     ]
    }
   ],
   "source": [
    "# -*- coding: utf-8 -*-\n",
    "import sys\n",
    "import dlib\n",
    "import cv2\n",
    "\n",
    "detector = dlib.get_frontal_face_detector() #获取人脸分类器\n",
    "\n",
    "imgs = [\"../images/Hepburn.jpg\", \"../images/trump.jpg\"]\n",
    "\n",
    "\n",
    "            \n",
    "# 传入的命令行参数\n",
    "for f in imgs:\n",
    "    # opencv 读取图片，并显示\n",
    "    img = cv2.imread(f, cv2.IMREAD_COLOR)\n",
    "    \n",
    "    \n",
    "    # 摘自官方文档：\n",
    "    # image is a numpy ndarray containing either an 8bit grayscale or RGB image.\n",
    "    # opencv读入的图片默认是bgr格式，我们需要将其转换为rgb格式；都是numpy的ndarray类。\n",
    "    #b, g, r = cv2.split(img)    # 分离三个颜色通道\n",
    "    #img2 = cv2.merge([r, g, b])   # 融合三个颜色通道生成新图片\n",
    "\n",
    "    dets = detector(img, 1) #使用detector进行人脸检测 dets为返回的结果\n",
    "    print(\"Number of faces detected: {}\".format(len(dets)))  # 打印识别到的人脸个数\n",
    "    # enumerate是一个Python的内置方法，用于遍历索引\n",
    "    # index是序号；face是dets中取出的dlib.rectangle类的对象，包含了人脸的区域等信息\n",
    "    # left()、top()、right()、bottom()都是dlib.rectangle类的方法，对应矩形四条边的位置\n",
    "    for index, face in enumerate(dets):\n",
    "        print('face {}; left {}; top {}; right {}; bottom {}'.format(index, face.left(), face.top(), face.right(), face.bottom()))\n",
    "\n",
    "        # 在图片中标注人脸，并显示\n",
    "        left = face.left()\n",
    "        top = face.top()\n",
    "        right = face.right()\n",
    "        bottom = face.bottom()\n",
    "        cv2.rectangle(img, (left, top), (right, bottom), (0, 255, 0), 3)\n",
    "        cv2.namedWindow(f, cv2.WINDOW_AUTOSIZE)\n",
    "        cv2.imshow(f, img)\n",
    "\n",
    "# 等待按键，随后退出，销毁窗口\n",
    "k = cv2.waitKey(0)\n",
    "cv2.destroyAllWindows()"
   ]
  },
  {
   "cell_type": "code",
   "execution_count": 5,
   "metadata": {},
   "outputs": [],
   "source": [
    "import dlib\n",
    "import cv2\n",
    "cap = cv2.VideoCapture(0)\n",
    "detector = dlib.get_frontal_face_detector() #获取人脸分类器\n",
    "dets = []\n",
    "i = 0\n",
    "rate = 0.3\n",
    "ret, frame = cap.read()\n",
    "HH, WW, _ = frame.shape\n",
    "while(cap.isOpened()):\n",
    "    ret, frame = cap.read()\n",
    "    if i == 2:\n",
    "        dets = detector(frame, 1) #使用detector进行人脸检测 dets为返回的结果\n",
    "        i = 0\n",
    "    for index, face in enumerate(dets):\n",
    "         # 在图片中标注人脸，并显示\n",
    "        left = face.left()\n",
    "        top = face.top()\n",
    "        right = face.right()\n",
    "        bottom = face.bottom()\n",
    "        w = right - left\n",
    "        h = bottom - top\n",
    "        left = int(max(0, left - 0.2 * w))\n",
    "        top = int(max(0, top - 0.4 * h))\n",
    "        right = int(min(WW, right + 0.2 * w))\n",
    "        bottom = int(min(HH, bottom + 0.2* h))\n",
    "        cv2.rectangle(frame, (left, top), (right, bottom), (0, 255, 0), 3)\n",
    "    i = i + 1\n",
    "    cv2.imshow('Face Detector',frame)\n",
    "    if cv2.waitKey(1) & 0xFF == ord('q'):\n",
    "        break\n",
    "cap.release()\n",
    "cv2.destroyAllWindows()"
   ]
  },
  {
   "cell_type": "code",
   "execution_count": null,
   "metadata": {},
   "outputs": [],
   "source": []
  }
 ],
 "metadata": {
  "kernelspec": {
   "display_name": "Python 3",
   "language": "python",
   "name": "python3"
  },
  "language_info": {
   "codemirror_mode": {
    "name": "ipython",
    "version": 3
   },
   "file_extension": ".py",
   "mimetype": "text/x-python",
   "name": "python",
   "nbconvert_exporter": "python",
   "pygments_lexer": "ipython3",
   "version": "3.6.2"
  }
 },
 "nbformat": 4,
 "nbformat_minor": 2
}
