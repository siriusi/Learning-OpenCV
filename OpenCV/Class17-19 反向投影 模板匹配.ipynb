{
 "cells": [
  {
   "cell_type": "code",
   "execution_count": 5,
   "metadata": {},
   "outputs": [
    {
     "data": {
      "text/plain": [
       "-1"
      ]
     },
     "execution_count": 5,
     "metadata": {},
     "output_type": "execute_result"
    }
   ],
   "source": [
    "#反向投影，也就是说，与ROI有关的都会比较明显\n",
    "#使用统计学的语言，BackProjection中存储的数值\n",
    "#代表了测试图像中该像素属于皮肤区域的概率。以上图为例，亮的区域是皮肤区域的可能性更大，而暗的区域则表示更低的可能性。\n",
    "import cv2\n",
    "import numpy as np\n",
    "from matplotlib import pyplot as plt\n",
    "\n",
    "\n",
    "def nothing(x):\n",
    "    pass\n",
    "\n",
    "\n",
    "img = cv2.imread('../images/hand.jpg')\n",
    "\n",
    "ROI = img[300:400,600:700]\n",
    "cv2.imshow('ROI Image', ROI)\n",
    "\n",
    "imgHSV = cv2.cvtColor(img, cv2.COLOR_BGR2HSV)\n",
    "roiHSV = cv2.cvtColor(ROI, cv2.COLOR_BGR2HSV)\n",
    "cv2.namedWindow('BackProjection Image')\n",
    "cv2.createTrackbar('H Value', 'BackProjection Image', 0, 180, nothing)\n",
    "\n",
    "while(1):\n",
    "\n",
    "    hSize = cv2.getTrackbarPos('H Value', 'BackProjection Image')\n",
    "    hSize = max(2, hSize)\n",
    "    roiHSVHist = cv2.calcHist([roiHSV], [0, 1], None, [hSize, 256], [0, 180, 0, 256])\n",
    "    cv2.normalize(roiHSVHist, roiHSVHist, 0, 255, cv2.NORM_MINMAX)\n",
    "    backProjImg = cv2.calcBackProject([imgHSV], [0, 1], roiHSVHist, [0, 180, 0, 256], 1)\n",
    "    cv2.imshow('BackProjection Image', backProjImg)\n",
    "    if cv2.waitKey(1) & 0xFF == ord('q'):\n",
    "        cv2.destroyAllWindows()\n",
    "        break\n",
    "\n",
    "cv2.waitKey()"
   ]
  },
  {
   "cell_type": "code",
   "execution_count": 9,
   "metadata": {},
   "outputs": [],
   "source": [
    "import cv2\n",
    "import numpy as np\n",
    "from matplotlib import pyplot as plt\n",
    "# 读入两幅不同的图像 验证模板匹配的精确度\n",
    "img1 = cv2.imread('../images/jump.jpg')\n",
    "# 读入模板\n",
    "temp = cv2.imread('../images/jump_temp.jpg')\n",
    "imgGray = cv2.cvtColor(img1, cv2.COLOR_BGR2GRAY)\n",
    "# 做一次拷贝 在循环中用得到\n",
    "imgGrayCopy = imgGray.copy()\n",
    "tempGray = cv2.cvtColor(temp, cv2.COLOR_BGR2GRAY)\n",
    "h, w = tempGray.shape\n",
    "# 对模板阈值化\n",
    "_, tempGray = cv2.threshold(tempGray, 200, 255, cv2.THRESH_BINARY)\n",
    "cv2.imshow('temp', tempGray)\n",
    "\n",
    "methods = ['cv2.TM_CCOEFF', 'cv2.TM_CCOEFF_NORMED', 'cv2.TM_CCORR', 'cv2.TM_CCORR_NORMED', 'cv2.TM_SQDIFF', 'cv2.TM_SQDIFF_NORMED']\n",
    "\n",
    "\n",
    "\n",
    "for meth in methods:\n",
    "   # 每次循环都使用一次拷贝版本，防止重复画矩形\n",
    "   imgGray = imgGrayCopy.copy()\n",
    "   method = eval(meth)\n",
    "   res = cv2.matchTemplate(imgGray, tempGray, method)\n",
    "   # 定位匹配坐标\n",
    "   min_val, max_val, min_loc, max_loc = cv2.minMaxLoc(res)\n",
    "   # 确定矩形框\n",
    "   if method in [cv2.TM_SQDIFF, cv2.TM_SQDIFF_NORMED]:\n",
    "      top_left = min_loc\n",
    "   else:\n",
    "      top_left = max_loc\n",
    "   bottom_right = (top_left[0] + w, top_left[1] + h)\n",
    "   cv2.rectangle(imgGray, top_left, bottom_right, 0, 3)\n",
    "    \n",
    "   plt.figure(figsize=(15,10))\n",
    "   plt.subplot(121), plt.imshow(res, cmap='gray')\n",
    "   plt.title('Matching Result'), plt.xticks([]), plt.yticks([])\n",
    "   plt.subplot(122), plt.imshow(imgGray, cmap='gray')\n",
    "   plt.title('Detected Point'), plt.xticks([]), plt.yticks([])\n",
    "   plt.suptitle(meth)\n",
    "\n",
    "   plt.show()\n",
    "\n",
    "cv2.waitKey()\n",
    "cv2.destroyAllWindows()"
   ]
  }
 ],
 "metadata": {
  "kernelspec": {
   "display_name": "Python 3",
   "language": "python",
   "name": "python3"
  },
  "language_info": {
   "codemirror_mode": {
    "name": "ipython",
    "version": 3
   },
   "file_extension": ".py",
   "mimetype": "text/x-python",
   "name": "python",
   "nbconvert_exporter": "python",
   "pygments_lexer": "ipython3",
   "version": "3.6.2"
  }
 },
 "nbformat": 4,
 "nbformat_minor": 2
}
