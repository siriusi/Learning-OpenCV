{
 "cells": [
  {
   "cell_type": "code",
   "execution_count": 2,
   "metadata": {
    "collapsed": true
   },
   "outputs": [],
   "source": [
    "import cv2\n",
    "import sys\n",
    " \n",
    "img = cv2.imread(\"../images/testPhoto.jpg\")\n",
    "cv2.imshow('img2', img)\n",
    "\n",
    "# 加载分类器\n",
    "dirStr = \"D:/Z/OpenCV_install/build/etc/haarcascades\"\n",
    "face_haar = cv2.CascadeClassifier(dirStr + \"/haarcascade_frontalface_default.xml\")\n",
    "eye_haar = cv2.CascadeClassifier(dirStr + \"/haarcascade_eye.xml\")\n",
    "# 把图像转为黑白图像\n",
    "gray_img = cv2.cvtColor(img, cv2.COLOR_BGR2GRAY)\n",
    "# 检测图像中的所有脸\n",
    "faces = face_haar.detectMultiScale(gray_img, 1.3, 5)\n",
    "for face_x,face_y,face_w,face_h in faces:\n",
    "    cv2.rectangle(img, (face_x, face_y), (face_x+face_w, face_y+face_h), (0,255,0), 2)\n",
    "        # 眼长在脸上\n",
    "    roi_gray_img = gray_img[face_y:face_y+face_h, face_x:face_x+face_w]\n",
    "    roi_img = img[face_y:face_y+face_h, face_x:face_x+face_w]\n",
    "    eyes = eye_haar.detectMultiScale(roi_gray_img, 1.3, 5)\n",
    "    for eye_x,eye_y,eye_w,eye_h in eyes:\n",
    "        cv2.rectangle(roi_img, (eye_x,eye_y), (eye_x+eye_w, eye_y+eye_h), (255,0,0), 2)\n",
    " \n",
    "cv2.imshow('img', img)\n",
    "\n",
    "cv2.waitKey(0)\n",
    "cv2.destroyAllWindows()"
   ]
  },
  {
   "cell_type": "code",
   "execution_count": 7,
   "metadata": {},
   "outputs": [],
   "source": [
    "import cv2\n",
    "import numpy as np\n",
    "\n",
    "\n",
    "# 加载分类器\n",
    "dirStr = \"D:/Z/OpenCV_install/build/etc/haarcascades\"\n",
    "face_haar = cv2.CascadeClassifier(dirStr + \"/haarcascade_frontalface_default.xml\")\n",
    "eye_haar = cv2.CascadeClassifier(dirStr + \"/haarcascade_eye.xml\")\n",
    "\n",
    "cap = cv2.VideoCapture(0)\n",
    "i = 0\n",
    "faces = []\n",
    "while(cap.isOpened()):\n",
    "    ret, frame = cap.read()\n",
    "    if i == 5:\n",
    "        # 把图像转为黑白图像\n",
    "        gray_img = cv2.cvtColor(frame, cv2.COLOR_BGR2GRAY)\n",
    "        # 检测图像中的所有脸\n",
    "        temp_faces = face_haar.detectMultiScale(gray_img, 1.3, 5)\n",
    "        if len(temp_faces) != 0:\n",
    "            faces = temp_faces\n",
    "            for face_x,face_y,face_w,face_h in faces:\n",
    "                cv2.rectangle(frame, (face_x, face_y), (face_x+face_w, face_y+face_h), (0,255,0), 2)\n",
    "                # 眼长在脸上\n",
    "                roi_gray_img = gray_img[face_y:face_y+face_h, face_x:face_x+face_w]\n",
    "                roi_img = frame[face_y:face_y+face_h, face_x:face_x+face_w]\n",
    "                eyes = eye_haar.detectMultiScale(roi_gray_img, 1.3, 5)\n",
    "                for eye_x,eye_y,eye_w,eye_h in eyes:\n",
    "                    cv2.rectangle(roi_img, (eye_x,eye_y), (eye_x+eye_w, eye_y+eye_h), (255,0,0), 2)\n",
    "        i = 0\n",
    "    else:\n",
    "        for face_x,face_y,face_w,face_h in faces:\n",
    "            cv2.rectangle(frame, (face_x, face_y), (face_x+face_w, face_y+face_h), (0,255,0), 2)\n",
    "            roi_img = frame[face_y:face_y+face_h, face_x:face_x+face_w]\n",
    "            for eye_x,eye_y,eye_w,eye_h in eyes:\n",
    "                cv2.rectangle(roi_img, (eye_x,eye_y), (eye_x+eye_w, eye_y+eye_h), (255,0,0), 2)\n",
    "    i = i + 1\n",
    "    cv2.imshow('Camera',frame)\n",
    "    if cv2.waitKey(1) & 0xFF == ord('q'):\n",
    "        break\n",
    "cap.release()\n",
    "cv2.destroyAllWindows()"
   ]
  }
 ],
 "metadata": {
  "kernelspec": {
   "display_name": "Python 3",
   "language": "python",
   "name": "python3"
  },
  "language_info": {
   "codemirror_mode": {
    "name": "ipython",
    "version": 3
   },
   "file_extension": ".py",
   "mimetype": "text/x-python",
   "name": "python",
   "nbconvert_exporter": "python",
   "pygments_lexer": "ipython3",
   "version": "3.6.3"
  }
 },
 "nbformat": 4,
 "nbformat_minor": 2
}
