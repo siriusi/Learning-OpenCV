{
 "cells": [
  {
   "cell_type": "code",
   "execution_count": 1,
   "metadata": {},
   "outputs": [
    {
     "name": "stdout",
     "output_type": "stream",
     "text": [
      "Hello World.\n"
     ]
    }
   ],
   "source": [
    "import cv2\n",
    "import numpy as np\n",
    "print('Hello World.')\n",
    "path = \"G:\\\\MachineLearning\\\\OpenCV\\\\1920x1080.jpg\"\n",
    "img = cv2.imread(path,cv2.IMREAD_GRAYSCALE)\n",
    "cv2.imshow('Image',img)\n",
    "cv2.waitKey(0)\n",
    "cv2.destroyAllWindows()"
   ]
  },
  {
   "cell_type": "code",
   "execution_count": 2,
   "metadata": {},
   "outputs": [
    {
     "ename": "error",
     "evalue": "OpenCV(3.4.1) D:\\Build\\OpenCV\\opencv-3.4.1\\modules\\highgui\\src\\window.cpp:364: error: (-215) size.width>0 && size.height>0 in function cv::imshow\n",
     "output_type": "error",
     "traceback": [
      "\u001b[1;31m---------------------------------------------------------------------------\u001b[0m",
      "\u001b[1;31merror\u001b[0m                                     Traceback (most recent call last)",
      "\u001b[1;32m<ipython-input-2-ba7586a7b55b>\u001b[0m in \u001b[0;36m<module>\u001b[1;34m()\u001b[0m\n\u001b[0;32m      5\u001b[0m     \u001b[1;32mif\u001b[0m \u001b[0mcap\u001b[0m\u001b[1;33m.\u001b[0m\u001b[0misOpened\u001b[0m\u001b[1;33m(\u001b[0m\u001b[1;33m)\u001b[0m\u001b[1;33m:\u001b[0m\u001b[1;33m\u001b[0m\u001b[0m\n\u001b[0;32m      6\u001b[0m         \u001b[0mret\u001b[0m\u001b[1;33m,\u001b[0m\u001b[0mframe\u001b[0m \u001b[1;33m=\u001b[0m \u001b[0mcap\u001b[0m\u001b[1;33m.\u001b[0m\u001b[0mread\u001b[0m\u001b[1;33m(\u001b[0m\u001b[1;33m)\u001b[0m\u001b[1;33m\u001b[0m\u001b[0m\n\u001b[1;32m----> 7\u001b[1;33m         \u001b[0mcv2\u001b[0m\u001b[1;33m.\u001b[0m\u001b[0mimshow\u001b[0m\u001b[1;33m(\u001b[0m\u001b[1;34m'Camera'\u001b[0m\u001b[1;33m,\u001b[0m\u001b[0mframe\u001b[0m\u001b[1;33m)\u001b[0m\u001b[1;33m\u001b[0m\u001b[0m\n\u001b[0m\u001b[0;32m      8\u001b[0m         \u001b[1;32mif\u001b[0m \u001b[0mcv2\u001b[0m\u001b[1;33m.\u001b[0m\u001b[0mwaitKey\u001b[0m\u001b[1;33m(\u001b[0m\u001b[1;36m100\u001b[0m\u001b[1;33m)\u001b[0m\u001b[1;33m&\u001b[0m\u001b[1;36m0xFF\u001b[0m \u001b[1;32mis\u001b[0m \u001b[0mord\u001b[0m\u001b[1;33m(\u001b[0m\u001b[1;34m'q'\u001b[0m\u001b[1;33m)\u001b[0m\u001b[1;33m:\u001b[0m\u001b[1;33m\u001b[0m\u001b[0m\n\u001b[0;32m      9\u001b[0m             \u001b[1;32mbreak\u001b[0m\u001b[1;33m\u001b[0m\u001b[0m\n",
      "\u001b[1;31merror\u001b[0m: OpenCV(3.4.1) D:\\Build\\OpenCV\\opencv-3.4.1\\modules\\highgui\\src\\window.cpp:364: error: (-215) size.width>0 && size.height>0 in function cv::imshow\n"
     ]
    }
   ],
   "source": [
    "import cv2\n",
    "import numpy as np\n",
    "cap = cv2.VideoCapture(0)\n",
    "while True:\n",
    "    if cap.isOpened():\n",
    "        ret,frame = cap.read()\n",
    "        cv2.imshow('Camera',frame)\n",
    "        if cv2.waitKey(100)&0xFF is ord('q'):\n",
    "            break\n",
    "cv2.destroyAllWindows()"
   ]
  },
  {
   "cell_type": "code",
   "execution_count": 1,
   "metadata": {},
   "outputs": [],
   "source": [
    "#存储视频截图\n",
    "import numpy as np\n",
    "import cv2\n",
    "\n",
    "# 初始化摄像头\n",
    "cap = cv2.VideoCapture(0)\n",
    "index = 0\n",
    "imgname = 0\n",
    "# 用循环不断获取当前帧 处理后显示出来\n",
    "while True:\n",
    "    index = index + 1\n",
    "#   捕获当前帧\n",
    "    ret,img = cap.read()\n",
    "#    显示图像\n",
    "    cv2.imshow('Camera',img)\n",
    "#   每5秒保存一张截图\n",
    "    if index == 100:\n",
    "        imgname = imgname + 1\n",
    "        if imgname >= 50:\n",
    "            imgname = 0\n",
    "#           文件名字符串拼接\n",
    "        fname = str(imgname) + '.jpg'\n",
    "#           写入截图\n",
    "        cv2.imwrite(fname, img)\n",
    "        print(fname + ' saved')\n",
    "        index = 0\n",
    "#   结束帧捕获的条件\n",
    "#   等待50ms 即帧频为20fps\n",
    "    if cv2.waitKey(50) & 0xFF == ord('q'):\n",
    "        break\n",
    "# 释放资源\n",
    "cap.release()\n",
    "cv2.destroyAllWindows()"
   ]
  },
  {
   "cell_type": "code",
   "execution_count": 8,
   "metadata": {},
   "outputs": [],
   "source": [
    "#存储视频\n",
    "import numpy as np\n",
    "import cv2\n",
    "cap = cv2.VideoCapture(0)\n",
    "# 定义fourecc代码\n",
    "fourcc = cv2.VideoWriter_fourcc(*'DIVX')\n",
    "# 创建VideoWriter对象\n",
    "out = cv2.VideoWriter('output.avi',fourcc, 20.0, (640,480))\n",
    "while(cap.isOpened()):\n",
    "    ret, frame = cap.read()\n",
    "    if ret==True:\n",
    "        out.write(frame)\n",
    "        cv2.imshow('frame',frame)\n",
    "        if cv2.waitKey(1) & 0xFF == ord('q'):\n",
    "            break\n",
    "    else:\n",
    "        break\n",
    "cap.release()\n",
    "out.release()\n",
    "cv2.destroyAllWindows()"
   ]
  },
  {
   "cell_type": "code",
   "execution_count": 1,
   "metadata": {},
   "outputs": [
    {
     "name": "stdout",
     "output_type": "stream",
     "text": [
      "True\n"
     ]
    }
   ],
   "source": [
    "import numpy as np\n",
    "import cv2\n",
    "# 创建画布\n",
    "#img = np.zeros((512, 512, 3), np.uint8)\n",
    "cap = cv2.VideoCapture(0)\n",
    "ret,img = cap.read()\n",
    "print(ret)\n",
    "\n",
    "img = cv2.line(img, (0, 0), (250, 250), (0, 0, 255), 2)\n",
    "img = cv2.rectangle(img,(384,0),(510,128),(0,255,0),3)\n",
    "img = cv2.circle(img,(447,63), 63, (0,0,255), -1)\n",
    "# 字体变量\n",
    "font = cv2.FONT_HERSHEY_SIMPLEX\n",
    "cv2.putText(img,'Zhuang',(10,500), font, 4,(255,255,255),2,cv2.LINE_AA)\n",
    "\n",
    "cv2.imshow('Title!@#!R@#$',img)\n",
    "\n",
    "cv2.waitKey(0)\n",
    "cap.release()\n",
    "cv2.destroyAllWindows()"
   ]
  },
  {
   "cell_type": "code",
   "execution_count": 3,
   "metadata": {},
   "outputs": [
    {
     "name": "stdout",
     "output_type": "stream",
     "text": [
      "['EVENT_FLAG_ALTKEY', 'EVENT_FLAG_CTRLKEY', 'EVENT_FLAG_LBUTTON', 'EVENT_FLAG_MBUTTON', 'EVENT_FLAG_RBUTTON', 'EVENT_FLAG_SHIFTKEY', 'EVENT_LBUTTONDBLCLK', 'EVENT_LBUTTONDOWN', 'EVENT_LBUTTONUP', 'EVENT_MBUTTONDBLCLK', 'EVENT_MBUTTONDOWN', 'EVENT_MBUTTONUP', 'EVENT_MOUSEHWHEEL', 'EVENT_MOUSEMOVE', 'EVENT_MOUSEWHEEL', 'EVENT_RBUTTONDBLCLK', 'EVENT_RBUTTONDOWN', 'EVENT_RBUTTONUP']\n"
     ]
    }
   ],
   "source": [
    "import cv2\n",
    "events = [i for i in dir(cv2) if 'EVENT' in i]\n",
    "print(events)"
   ]
  },
  {
   "cell_type": "code",
   "execution_count": 14,
   "metadata": {},
   "outputs": [],
   "source": [
    "#鼠标跟随画个矩形\n",
    "import cv2\n",
    "import numpy as np\n",
    "center=[]\n",
    "# 鼠标回调函数\n",
    "def draw_circle(event,x,y,flags,circleCenter):\n",
    "#   鼠标移动且按下Ctrl键\n",
    "    if event == cv2.EVENT_MOUSEMOVE and flags == cv2.EVENT_FLAG_LBUTTON:\n",
    "#       注意param的作用 \n",
    "        #r = np.sqrt((x-circleCenter[0])^2 + (y-circleCenter[1])^2)\n",
    "        #cv2.circle(img,(int(circleCenter[0]),int(circleCenter[1])),int(r),(255,0,0),-1)\n",
    "        \n",
    "        cv2.rectangle(img, (int(circleCenter[0]),int(circleCenter[1])), (x,y), (255,0,0),-1)\n",
    "    elif event == cv2.EVENT_LBUTTONDOWN:\n",
    "        circleCenter.clear()\n",
    "        circleCenter.append(x)\n",
    "        circleCenter.append(y)\n",
    "# 创建画布\n",
    "img = np.zeros((512,512,3), np.uint8)\n",
    "cv2.namedWindow('image')\n",
    "# “激活”回调函数 需要传递的参数为字符串'I am the param'\n",
    "cv2.setMouseCallback('image',draw_circle, center)\n",
    "\n",
    "while(1):\n",
    "    cv2.imshow('image',img)\n",
    "    if cv2.waitKey(20) & 0xFF == ord('q'):\n",
    "        break\n",
    "cv2.destroyAllWindows()"
   ]
  },
  {
   "cell_type": "code",
   "execution_count": 2,
   "metadata": {},
   "outputs": [],
   "source": [
    "import cv2\n",
    "import numpy as np\n",
    "# 滑动条回调函数 这里啥也不做\n",
    "def nothing(x):\n",
    "    pass\n",
    "\n",
    "# 创建画布\n",
    "img = np.zeros((300,512,3), np.uint8)\n",
    "cv2.namedWindow('image')\n",
    "\n",
    "# 创建并“激活”滑动条\n",
    "cv2.createTrackbar('R','image',0,255,nothing)\n",
    "cv2.createTrackbar('G','image',0,255,nothing)\n",
    "cv2.createTrackbar('B','image',0,255,nothing)\n",
    "\n",
    "# 用滑动条做一个二值开关\n",
    "switch = '0 : OFF \\n1 : ON'\n",
    "cv2.createTrackbar(switch, 'image',0,1,nothing)\n",
    "\n",
    "while(1):\n",
    "    cv2.imshow('image',img)\n",
    "    k = cv2.waitKey(1) & 0xFF\n",
    "    if k == 27:    #ESC\n",
    "        break\n",
    "\n",
    "#   获取滑动条当前值\n",
    "    r = cv2.getTrackbarPos('R','image')\n",
    "    g = cv2.getTrackbarPos('G','image')\n",
    "    b = cv2.getTrackbarPos('B','image')\n",
    "    s = cv2.getTrackbarPos(switch,'image')\n",
    "#   混合BGR通道\n",
    "    if s == 0:\n",
    "        img[:] = 0\n",
    "    else:\n",
    "        img[:] = [b,g,r]\n",
    "\n",
    "cv2.destroyAllWindows()"
   ]
  },
  {
   "cell_type": "code",
   "execution_count": 6,
   "metadata": {
    "scrolled": true
   },
   "outputs": [
    {
     "name": "stdout",
     "output_type": "stream",
     "text": [
      "(1080, 1920, 3)\n",
      "(array([ 108,  164,  191, ..., 1065, 1067, 1068], dtype=int64), array([240, 166, 166, ..., 723, 328, 198], dtype=int64))\n",
      "255\n",
      "255\n",
      "254\n",
      "[255 255 254]\n"
     ]
    }
   ],
   "source": [
    "import cv2\n",
    "import numpy as np\n",
    "\n",
    "img = cv2.imread('G:\\\\MachineLearning\\\\OpenCV\\\\1920x1080.jpg',1)\n",
    "\n",
    "# 分离图像 得到BGR三个通道的图像分量\n",
    "b,g,r = cv2.split(img)\n",
    "\n",
    "\"\"\"\n",
    "# 显示原图和三个通道\n",
    "cv2.namedWindow('Source Image')\n",
    "cv2.namedWindow('Blue Channel')\n",
    "cv2.namedWindow('Green Channel')\n",
    "cv2.namedWindow('Red Channel')\n",
    "cv2.imshow('Source Image', img)\n",
    "cv2.imshow('Blue Channel', b)\n",
    "cv2.imshow('Green Channel', g)\n",
    "cv2.imshow('Red Channel', r)\n",
    "\"\"\"\n",
    "print(img.shape)\n",
    "print(np.where(b==255))\n",
    "print(b[108,240])\n",
    "print(g[108,240])\n",
    "print(r[108,240])\n",
    "print(img[108,240])\n",
    "\n",
    "# 转换为HSV色彩空间\n",
    "hsv = cv2.cvtColor(img, cv2.COLOR_BGR2HSV)\n",
    "# 分离HSV三通道\n",
    "h,s,v = cv2.split(hsv)\n",
    "\n",
    "\"\"\"\n",
    "# 显示原图和三个通道\n",
    "cv2.namedWindow('HSV')\n",
    "cv2.namedWindow('H')\n",
    "cv2.namedWindow('S')\n",
    "cv2.namedWindow('V')\n",
    "cv2.imshow('HSV', hsv)\n",
    "cv2.imshow('H', h)\n",
    "cv2.imshow('S', s)\n",
    "cv2.imshow('V', v)\n",
    "\"\"\"\n",
    "\n",
    "cv2.waitKey(0)\n",
    "cv2.destroyAllWindows()\n"
   ]
  },
  {
   "cell_type": "code",
   "execution_count": null,
   "metadata": {},
   "outputs": [],
   "source": []
  }
 ],
 "metadata": {
  "kernelspec": {
   "display_name": "Python 3",
   "language": "python",
   "name": "python3"
  },
  "language_info": {
   "codemirror_mode": {
    "name": "ipython",
    "version": 3
   },
   "file_extension": ".py",
   "mimetype": "text/x-python",
   "name": "python",
   "nbconvert_exporter": "python",
   "pygments_lexer": "ipython3",
   "version": "3.6.2"
  }
 },
 "nbformat": 4,
 "nbformat_minor": 2
}
